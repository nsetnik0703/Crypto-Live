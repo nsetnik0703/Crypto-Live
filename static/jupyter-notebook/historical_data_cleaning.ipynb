{
 "cells": [
  {
   "cell_type": "code",
   "execution_count": 1,
   "metadata": {},
   "outputs": [],
   "source": [
    "# import dependencies \n",
    "import pandas as pd\n",
    "import numpy as np\n",
    "from datetime import datetime\n",
    "\n",
    "%matplotlib inline\n",
    "import matplotlib.pyplot as plt"
   ]
  },
  {
   "cell_type": "code",
   "execution_count": 2,
   "metadata": {},
   "outputs": [
    {
     "data": {
      "text/html": [
       "<div>\n",
       "<style scoped>\n",
       "    .dataframe tbody tr th:only-of-type {\n",
       "        vertical-align: middle;\n",
       "    }\n",
       "\n",
       "    .dataframe tbody tr th {\n",
       "        vertical-align: top;\n",
       "    }\n",
       "\n",
       "    .dataframe thead th {\n",
       "        text-align: right;\n",
       "    }\n",
       "</style>\n",
       "<table border=\"1\" class=\"dataframe\">\n",
       "  <thead>\n",
       "    <tr style=\"text-align: right;\">\n",
       "      <th></th>\n",
       "      <th>Currency</th>\n",
       "      <th>Date</th>\n",
       "      <th>Open</th>\n",
       "      <th>High</th>\n",
       "      <th>Low</th>\n",
       "      <th>Close</th>\n",
       "      <th>Volume</th>\n",
       "      <th>Market Cap</th>\n",
       "    </tr>\n",
       "  </thead>\n",
       "  <tbody>\n",
       "    <tr>\n",
       "      <th>13571</th>\n",
       "      <td>cardano</td>\n",
       "      <td>Oct 05, 2017</td>\n",
       "      <td>0.021951</td>\n",
       "      <td>0.022154</td>\n",
       "      <td>0.020859</td>\n",
       "      <td>0.021489</td>\n",
       "      <td>5,562,510</td>\n",
       "      <td>557,139,041</td>\n",
       "    </tr>\n",
       "    <tr>\n",
       "      <th>13572</th>\n",
       "      <td>cardano</td>\n",
       "      <td>Oct 04, 2017</td>\n",
       "      <td>0.020864</td>\n",
       "      <td>0.022806</td>\n",
       "      <td>0.020864</td>\n",
       "      <td>0.021931</td>\n",
       "      <td>9,000,050</td>\n",
       "      <td>568,619,548</td>\n",
       "    </tr>\n",
       "    <tr>\n",
       "      <th>13573</th>\n",
       "      <td>cardano</td>\n",
       "      <td>Oct 03, 2017</td>\n",
       "      <td>0.025757</td>\n",
       "      <td>0.027425</td>\n",
       "      <td>0.020690</td>\n",
       "      <td>0.020816</td>\n",
       "      <td>16,997,800</td>\n",
       "      <td>539,692,715</td>\n",
       "    </tr>\n",
       "    <tr>\n",
       "      <th>13574</th>\n",
       "      <td>cardano</td>\n",
       "      <td>Oct 02, 2017</td>\n",
       "      <td>0.024607</td>\n",
       "      <td>0.030088</td>\n",
       "      <td>0.019969</td>\n",
       "      <td>0.025932</td>\n",
       "      <td>57,641,300</td>\n",
       "      <td>628,899,052</td>\n",
       "    </tr>\n",
       "    <tr>\n",
       "      <th>13575</th>\n",
       "      <td>cardano</td>\n",
       "      <td>Oct 01, 2017</td>\n",
       "      <td>0.021678</td>\n",
       "      <td>0.032226</td>\n",
       "      <td>0.017354</td>\n",
       "      <td>0.024969</td>\n",
       "      <td>50,068,700</td>\n",
       "      <td>-</td>\n",
       "    </tr>\n",
       "  </tbody>\n",
       "</table>\n",
       "</div>"
      ],
      "text/plain": [
       "      Currency          Date      Open      High       Low     Close  \\\n",
       "13571  cardano  Oct 05, 2017  0.021951  0.022154  0.020859  0.021489   \n",
       "13572  cardano  Oct 04, 2017  0.020864  0.022806  0.020864  0.021931   \n",
       "13573  cardano  Oct 03, 2017  0.025757  0.027425  0.020690  0.020816   \n",
       "13574  cardano  Oct 02, 2017  0.024607  0.030088  0.019969  0.025932   \n",
       "13575  cardano  Oct 01, 2017  0.021678  0.032226  0.017354  0.024969   \n",
       "\n",
       "           Volume   Market Cap  \n",
       "13571   5,562,510  557,139,041  \n",
       "13572   9,000,050  568,619,548  \n",
       "13573  16,997,800  539,692,715  \n",
       "13574  57,641,300  628,899,052  \n",
       "13575  50,068,700            -  "
      ]
     },
     "execution_count": 2,
     "metadata": {},
     "output_type": "execute_result"
    }
   ],
   "source": [
    "# open csv file \n",
    "file = \"consolidated_coin_data.csv\"\n",
    "df = pd.read_csv(file)\n",
    "df.tail()"
   ]
  },
  {
   "cell_type": "code",
   "execution_count": 3,
   "metadata": {},
   "outputs": [
    {
     "data": {
      "text/plain": [
       "Currency       object\n",
       "Date           object\n",
       "Open          float64\n",
       "High          float64\n",
       "Low           float64\n",
       "Close         float64\n",
       "Volume         object\n",
       "Market Cap     object\n",
       "dtype: object"
      ]
     },
     "execution_count": 3,
     "metadata": {},
     "output_type": "execute_result"
    }
   ],
   "source": [
    "# check data types\n",
    "df.dtypes"
   ]
  },
  {
   "cell_type": "code",
   "execution_count": 11,
   "metadata": {},
   "outputs": [
    {
     "data": {
      "text/html": [
       "<div>\n",
       "<style scoped>\n",
       "    .dataframe tbody tr th:only-of-type {\n",
       "        vertical-align: middle;\n",
       "    }\n",
       "\n",
       "    .dataframe tbody tr th {\n",
       "        vertical-align: top;\n",
       "    }\n",
       "\n",
       "    .dataframe thead th {\n",
       "        text-align: right;\n",
       "    }\n",
       "</style>\n",
       "<table border=\"1\" class=\"dataframe\">\n",
       "  <thead>\n",
       "    <tr style=\"text-align: right;\">\n",
       "      <th></th>\n",
       "      <th>Currency</th>\n",
       "      <th>Date</th>\n",
       "      <th>Open</th>\n",
       "      <th>High</th>\n",
       "      <th>Low</th>\n",
       "      <th>Close</th>\n",
       "      <th>Volume</th>\n",
       "      <th>Market Cap</th>\n",
       "    </tr>\n",
       "  </thead>\n",
       "  <tbody>\n",
       "    <tr>\n",
       "      <th>13571</th>\n",
       "      <td>cardano</td>\n",
       "      <td>2017-10-05</td>\n",
       "      <td>0.021951</td>\n",
       "      <td>0.022154</td>\n",
       "      <td>0.020859</td>\n",
       "      <td>0.021489</td>\n",
       "      <td>5,562,510</td>\n",
       "      <td>557,139,041</td>\n",
       "    </tr>\n",
       "    <tr>\n",
       "      <th>13572</th>\n",
       "      <td>cardano</td>\n",
       "      <td>2017-10-04</td>\n",
       "      <td>0.020864</td>\n",
       "      <td>0.022806</td>\n",
       "      <td>0.020864</td>\n",
       "      <td>0.021931</td>\n",
       "      <td>9,000,050</td>\n",
       "      <td>568,619,548</td>\n",
       "    </tr>\n",
       "    <tr>\n",
       "      <th>13573</th>\n",
       "      <td>cardano</td>\n",
       "      <td>2017-10-03</td>\n",
       "      <td>0.025757</td>\n",
       "      <td>0.027425</td>\n",
       "      <td>0.020690</td>\n",
       "      <td>0.020816</td>\n",
       "      <td>16,997,800</td>\n",
       "      <td>539,692,715</td>\n",
       "    </tr>\n",
       "    <tr>\n",
       "      <th>13574</th>\n",
       "      <td>cardano</td>\n",
       "      <td>2017-10-02</td>\n",
       "      <td>0.024607</td>\n",
       "      <td>0.030088</td>\n",
       "      <td>0.019969</td>\n",
       "      <td>0.025932</td>\n",
       "      <td>57,641,300</td>\n",
       "      <td>628,899,052</td>\n",
       "    </tr>\n",
       "    <tr>\n",
       "      <th>13575</th>\n",
       "      <td>cardano</td>\n",
       "      <td>2017-10-01</td>\n",
       "      <td>0.021678</td>\n",
       "      <td>0.032226</td>\n",
       "      <td>0.017354</td>\n",
       "      <td>0.024969</td>\n",
       "      <td>50,068,700</td>\n",
       "      <td>-</td>\n",
       "    </tr>\n",
       "  </tbody>\n",
       "</table>\n",
       "</div>"
      ],
      "text/plain": [
       "      Currency       Date      Open      High       Low     Close      Volume  \\\n",
       "13571  cardano 2017-10-05  0.021951  0.022154  0.020859  0.021489   5,562,510   \n",
       "13572  cardano 2017-10-04  0.020864  0.022806  0.020864  0.021931   9,000,050   \n",
       "13573  cardano 2017-10-03  0.025757  0.027425  0.020690  0.020816  16,997,800   \n",
       "13574  cardano 2017-10-02  0.024607  0.030088  0.019969  0.025932  57,641,300   \n",
       "13575  cardano 2017-10-01  0.021678  0.032226  0.017354  0.024969  50,068,700   \n",
       "\n",
       "        Market Cap  \n",
       "13571  557,139,041  \n",
       "13572  568,619,548  \n",
       "13573  539,692,715  \n",
       "13574  628,899,052  \n",
       "13575            -  "
      ]
     },
     "execution_count": 11,
     "metadata": {},
     "output_type": "execute_result"
    }
   ],
   "source": [
    "# convert date to datetime format\n",
    "df[\"Date\"] = pd.to_datetime(df[\"Date\"])\n",
    "df.tail()"
   ]
  },
  {
   "cell_type": "code",
   "execution_count": 17,
   "metadata": {},
   "outputs": [
    {
     "data": {
      "text/html": [
       "<div>\n",
       "<style scoped>\n",
       "    .dataframe tbody tr th:only-of-type {\n",
       "        vertical-align: middle;\n",
       "    }\n",
       "\n",
       "    .dataframe tbody tr th {\n",
       "        vertical-align: top;\n",
       "    }\n",
       "\n",
       "    .dataframe thead th {\n",
       "        text-align: right;\n",
       "    }\n",
       "</style>\n",
       "<table border=\"1\" class=\"dataframe\">\n",
       "  <thead>\n",
       "    <tr style=\"text-align: right;\">\n",
       "      <th></th>\n",
       "      <th>Currency</th>\n",
       "      <th>Date</th>\n",
       "      <th>Close</th>\n",
       "    </tr>\n",
       "  </thead>\n",
       "  <tbody>\n",
       "    <tr>\n",
       "      <th>0</th>\n",
       "      <td>ripple</td>\n",
       "      <td>2019-04-24</td>\n",
       "      <td>0.302318</td>\n",
       "    </tr>\n",
       "    <tr>\n",
       "      <th>1</th>\n",
       "      <td>ripple</td>\n",
       "      <td>2019-04-23</td>\n",
       "      <td>0.321222</td>\n",
       "    </tr>\n",
       "    <tr>\n",
       "      <th>2</th>\n",
       "      <td>ripple</td>\n",
       "      <td>2019-04-22</td>\n",
       "      <td>0.323934</td>\n",
       "    </tr>\n",
       "    <tr>\n",
       "      <th>3</th>\n",
       "      <td>ripple</td>\n",
       "      <td>2019-04-21</td>\n",
       "      <td>0.322449</td>\n",
       "    </tr>\n",
       "    <tr>\n",
       "      <th>4</th>\n",
       "      <td>ripple</td>\n",
       "      <td>2019-04-20</td>\n",
       "      <td>0.328476</td>\n",
       "    </tr>\n",
       "  </tbody>\n",
       "</table>\n",
       "</div>"
      ],
      "text/plain": [
       "  Currency       Date     Close\n",
       "0   ripple 2019-04-24  0.302318\n",
       "1   ripple 2019-04-23  0.321222\n",
       "2   ripple 2019-04-22  0.323934\n",
       "3   ripple 2019-04-21  0.322449\n",
       "4   ripple 2019-04-20  0.328476"
      ]
     },
     "execution_count": 17,
     "metadata": {},
     "output_type": "execute_result"
    }
   ],
   "source": [
    "# drop columns to show only date, close, and currency \n",
    "df_drop = df.drop(['Open', 'High', 'Low', 'Volume', 'Market Cap'], axis=1)\n",
    "df_drop.head()"
   ]
  },
  {
   "cell_type": "code",
   "execution_count": 22,
   "metadata": {},
   "outputs": [
    {
     "data": {
      "text/html": [
       "<div>\n",
       "<style scoped>\n",
       "    .dataframe tbody tr th:only-of-type {\n",
       "        vertical-align: middle;\n",
       "    }\n",
       "\n",
       "    .dataframe tbody tr th {\n",
       "        vertical-align: top;\n",
       "    }\n",
       "\n",
       "    .dataframe thead th {\n",
       "        text-align: right;\n",
       "    }\n",
       "</style>\n",
       "<table border=\"1\" class=\"dataframe\">\n",
       "  <thead>\n",
       "    <tr style=\"text-align: right;\">\n",
       "      <th></th>\n",
       "      <th>Currency</th>\n",
       "      <th>Date</th>\n",
       "      <th>Close</th>\n",
       "    </tr>\n",
       "  </thead>\n",
       "  <tbody>\n",
       "    <tr>\n",
       "      <th>0</th>\n",
       "      <td>ripple</td>\n",
       "      <td>2019-04-24</td>\n",
       "      <td>0.302318</td>\n",
       "    </tr>\n",
       "    <tr>\n",
       "      <th>1</th>\n",
       "      <td>ripple</td>\n",
       "      <td>2019-04-23</td>\n",
       "      <td>0.321222</td>\n",
       "    </tr>\n",
       "    <tr>\n",
       "      <th>2</th>\n",
       "      <td>ripple</td>\n",
       "      <td>2019-04-22</td>\n",
       "      <td>0.323934</td>\n",
       "    </tr>\n",
       "    <tr>\n",
       "      <th>3</th>\n",
       "      <td>ripple</td>\n",
       "      <td>2019-04-21</td>\n",
       "      <td>0.322449</td>\n",
       "    </tr>\n",
       "    <tr>\n",
       "      <th>4</th>\n",
       "      <td>ripple</td>\n",
       "      <td>2019-04-20</td>\n",
       "      <td>0.328476</td>\n",
       "    </tr>\n",
       "  </tbody>\n",
       "</table>\n",
       "</div>"
      ],
      "text/plain": [
       "  Currency       Date     Close\n",
       "0   ripple 2019-04-24  0.302318\n",
       "1   ripple 2019-04-23  0.321222\n",
       "2   ripple 2019-04-22  0.323934\n",
       "3   ripple 2019-04-21  0.322449\n",
       "4   ripple 2019-04-20  0.328476"
      ]
     },
     "execution_count": 22,
     "metadata": {},
     "output_type": "execute_result"
    }
   ],
   "source": [
    "# clean dataframe to contain the 6 currency exchanges \n",
    "cleaned_df = df_drop.loc[df['Currency'].isin(['ethereum', 'ripple', 'litecoin', 'bitcoin', 'eos', 'binance-coin'])]\n",
    "cleaned_df.head()"
   ]
  },
  {
   "cell_type": "code",
   "execution_count": 23,
   "metadata": {},
   "outputs": [],
   "source": [
    "# create function to rename currency by abbreviation \n",
    "def rename(x):\n",
    "    if \"ethereum\" in x: return(\"ETH\")\n",
    "    elif \"ripple\" in x: return(\"XRP\")\n",
    "    elif \"litecoin\" in x: return(\"LTC\")\n",
    "    elif \"bitcoin\" in x: return(\"BCC\")\n",
    "    elif \"eos\" in x: return (\"EOS\")\n",
    "    elif \"binance-coin\" in x:return(\"BNC\")\n",
    "    else: return(x)"
   ]
  },
  {
   "cell_type": "code",
   "execution_count": 50,
   "metadata": {
    "scrolled": false
   },
   "outputs": [
    {
     "name": "stderr",
     "output_type": "stream",
     "text": [
      "/anaconda3/envs/PythonData/lib/python3.6/site-packages/ipykernel_launcher.py:1: SettingWithCopyWarning: \n",
      "A value is trying to be set on a copy of a slice from a DataFrame.\n",
      "Try using .loc[row_indexer,col_indexer] = value instead\n",
      "\n",
      "See the caveats in the documentation: http://pandas.pydata.org/pandas-docs/stable/indexing.html#indexing-view-versus-copy\n",
      "  \"\"\"Entry point for launching an IPython kernel.\n"
     ]
    },
    {
     "data": {
      "text/html": [
       "<div>\n",
       "<style scoped>\n",
       "    .dataframe tbody tr th:only-of-type {\n",
       "        vertical-align: middle;\n",
       "    }\n",
       "\n",
       "    .dataframe tbody tr th {\n",
       "        vertical-align: top;\n",
       "    }\n",
       "\n",
       "    .dataframe thead th {\n",
       "        text-align: right;\n",
       "    }\n",
       "</style>\n",
       "<table border=\"1\" class=\"dataframe\">\n",
       "  <thead>\n",
       "    <tr style=\"text-align: right;\">\n",
       "      <th></th>\n",
       "      <th>Currency</th>\n",
       "      <th>Date</th>\n",
       "      <th>Close</th>\n",
       "      <th>BTC</th>\n",
       "    </tr>\n",
       "  </thead>\n",
       "  <tbody>\n",
       "    <tr>\n",
       "      <th>0</th>\n",
       "      <td>ripple</td>\n",
       "      <td>2019-04-24</td>\n",
       "      <td>0.302318</td>\n",
       "      <td>XRP</td>\n",
       "    </tr>\n",
       "    <tr>\n",
       "      <th>1</th>\n",
       "      <td>ripple</td>\n",
       "      <td>2019-04-23</td>\n",
       "      <td>0.321222</td>\n",
       "      <td>XRP</td>\n",
       "    </tr>\n",
       "    <tr>\n",
       "      <th>2</th>\n",
       "      <td>ripple</td>\n",
       "      <td>2019-04-22</td>\n",
       "      <td>0.323934</td>\n",
       "      <td>XRP</td>\n",
       "    </tr>\n",
       "    <tr>\n",
       "      <th>3</th>\n",
       "      <td>ripple</td>\n",
       "      <td>2019-04-21</td>\n",
       "      <td>0.322449</td>\n",
       "      <td>XRP</td>\n",
       "    </tr>\n",
       "    <tr>\n",
       "      <th>4</th>\n",
       "      <td>ripple</td>\n",
       "      <td>2019-04-20</td>\n",
       "      <td>0.328476</td>\n",
       "      <td>XRP</td>\n",
       "    </tr>\n",
       "  </tbody>\n",
       "</table>\n",
       "</div>"
      ],
      "text/plain": [
       "  Currency       Date     Close  BTC\n",
       "0   ripple 2019-04-24  0.302318  XRP\n",
       "1   ripple 2019-04-23  0.321222  XRP\n",
       "2   ripple 2019-04-22  0.323934  XRP\n",
       "3   ripple 2019-04-21  0.322449  XRP\n",
       "4   ripple 2019-04-20  0.328476  XRP"
      ]
     },
     "execution_count": 50,
     "metadata": {},
     "output_type": "execute_result"
    }
   ],
   "source": [
    "# apply function to new column called BTC\n",
    "cleaned_df[\"BTC\"]=cleaned_df[\"Currency\"].apply(rename)\n",
    "cleaned_df.head()"
   ]
  },
  {
   "cell_type": "code",
   "execution_count": 55,
   "metadata": {},
   "outputs": [
    {
     "data": {
      "text/html": [
       "<div>\n",
       "<style scoped>\n",
       "    .dataframe tbody tr th:only-of-type {\n",
       "        vertical-align: middle;\n",
       "    }\n",
       "\n",
       "    .dataframe tbody tr th {\n",
       "        vertical-align: top;\n",
       "    }\n",
       "\n",
       "    .dataframe thead th {\n",
       "        text-align: right;\n",
       "    }\n",
       "</style>\n",
       "<table border=\"1\" class=\"dataframe\">\n",
       "  <thead>\n",
       "    <tr style=\"text-align: right;\">\n",
       "      <th></th>\n",
       "      <th>Date</th>\n",
       "      <th>Close</th>\n",
       "      <th>BTC</th>\n",
       "    </tr>\n",
       "  </thead>\n",
       "  <tbody>\n",
       "    <tr>\n",
       "      <th>0</th>\n",
       "      <td>2019-04-24</td>\n",
       "      <td>0.302318</td>\n",
       "      <td>XRP</td>\n",
       "    </tr>\n",
       "    <tr>\n",
       "      <th>1</th>\n",
       "      <td>2019-04-23</td>\n",
       "      <td>0.321222</td>\n",
       "      <td>XRP</td>\n",
       "    </tr>\n",
       "    <tr>\n",
       "      <th>2</th>\n",
       "      <td>2019-04-22</td>\n",
       "      <td>0.323934</td>\n",
       "      <td>XRP</td>\n",
       "    </tr>\n",
       "    <tr>\n",
       "      <th>3</th>\n",
       "      <td>2019-04-21</td>\n",
       "      <td>0.322449</td>\n",
       "      <td>XRP</td>\n",
       "    </tr>\n",
       "    <tr>\n",
       "      <th>4</th>\n",
       "      <td>2019-04-20</td>\n",
       "      <td>0.328476</td>\n",
       "      <td>XRP</td>\n",
       "    </tr>\n",
       "  </tbody>\n",
       "</table>\n",
       "</div>"
      ],
      "text/plain": [
       "        Date     Close  BTC\n",
       "0 2019-04-24  0.302318  XRP\n",
       "1 2019-04-23  0.321222  XRP\n",
       "2 2019-04-22  0.323934  XRP\n",
       "3 2019-04-21  0.322449  XRP\n",
       "4 2019-04-20  0.328476  XRP"
      ]
     },
     "execution_count": 55,
     "metadata": {},
     "output_type": "execute_result"
    }
   ],
   "source": [
    "# remove Currency column\n",
    "cleaned_df = cleaned_df.drop([\"Currency\"], axis=1)\n",
    "cleaned_df.head()"
   ]
  },
  {
   "cell_type": "code",
   "execution_count": 99,
   "metadata": {},
   "outputs": [],
   "source": [
    "# save dataframe to csv \n",
    "cleaned_df.to_csv('cleaned_historical_data.csv')"
   ]
  },
  {
   "cell_type": "code",
   "execution_count": 96,
   "metadata": {},
   "outputs": [],
   "source": [
    "# select BTC by currency \n",
    "xrp_df = cleaned_df.loc[cleaned_df[\"BTC\"] == \"XRP\"]\n",
    "eth_df = cleaned_df.loc[cleaned_df[\"BTC\"] == \"ETH\"]\n",
    "ltc_df = cleaned_df.loc[cleaned_df[\"BTC\"] == \"LTC\"]\n",
    "bcc_df = cleaned_df.loc[cleaned_df[\"BTC\"] == \"BCC\"]\n",
    "eos_df = cleaned_df.loc[cleaned_df[\"BTC\"] == \"EOS\"]\n",
    "bnc_df = cleaned_df.loc[cleaned_df[\"BTC\"] == \"BNC\"]"
   ]
  },
  {
   "cell_type": "code",
   "execution_count": 87,
   "metadata": {},
   "outputs": [
    {
     "data": {
      "text/plain": [
       "Date     2090\n",
       "Close    2090\n",
       "BTC      2090\n",
       "dtype: int64"
      ]
     },
     "execution_count": 87,
     "metadata": {},
     "output_type": "execute_result"
    }
   ],
   "source": [
    "# check len of df \n",
    "xrp_df.count()"
   ]
  },
  {
   "cell_type": "code",
   "execution_count": 88,
   "metadata": {},
   "outputs": [
    {
     "data": {
      "text/plain": [
       "Date     1357\n",
       "Close    1357\n",
       "BTC      1357\n",
       "dtype: int64"
      ]
     },
     "execution_count": 88,
     "metadata": {},
     "output_type": "execute_result"
    }
   ],
   "source": [
    "eth_df.count()"
   ]
  },
  {
   "cell_type": "code",
   "execution_count": 89,
   "metadata": {},
   "outputs": [
    {
     "data": {
      "text/plain": [
       "Date     2188\n",
       "Close    2188\n",
       "BTC      2188\n",
       "dtype: int64"
      ]
     },
     "execution_count": 89,
     "metadata": {},
     "output_type": "execute_result"
    }
   ],
   "source": [
    "ltc_df.count()"
   ]
  },
  {
   "cell_type": "code",
   "execution_count": 90,
   "metadata": {},
   "outputs": [
    {
     "data": {
      "text/plain": [
       "Date     2188\n",
       "Close    2188\n",
       "BTC      2188\n",
       "dtype: int64"
      ]
     },
     "execution_count": 90,
     "metadata": {},
     "output_type": "execute_result"
    }
   ],
   "source": [
    "bcc_df.count()"
   ]
  },
  {
   "cell_type": "code",
   "execution_count": 91,
   "metadata": {},
   "outputs": [
    {
     "data": {
      "text/plain": [
       "Date     663\n",
       "Close    663\n",
       "BTC      663\n",
       "dtype: int64"
      ]
     },
     "execution_count": 91,
     "metadata": {},
     "output_type": "execute_result"
    }
   ],
   "source": [
    "eos_df.count()"
   ]
  },
  {
   "cell_type": "code",
   "execution_count": 98,
   "metadata": {},
   "outputs": [
    {
     "data": {
      "text/plain": [
       "Date     639\n",
       "Close    639\n",
       "BTC      639\n",
       "dtype: int64"
      ]
     },
     "execution_count": 98,
     "metadata": {},
     "output_type": "execute_result"
    }
   ],
   "source": [
    "bnc_df.count()"
   ]
  },
  {
   "cell_type": "code",
   "execution_count": 80,
   "metadata": {},
   "outputs": [
    {
     "data": {
      "image/png": "[encoded data removed]",
      "text/plain": [
       "<Figure size 720x432 with 1 Axes>"
      ]
     },
     "metadata": {
      "needs_background": "light"
     },
     "output_type": "display_data"
    }
   ],
   "source": [
    "# example plot for XRP/ripple over time \n",
    "fig, ax = plt.subplots(figsize=(10,6))\n",
    "x_axis = xrp_df[\"Date\"]\n",
    "xrp_plot = plt.plot(x_axis, xrp_df[\"Close\"], color='r', alpha=0.5)"
   ]
  },
  {
   "cell_type": "code",
   "execution_count": 81,
   "metadata": {},
   "outputs": [
    {
     "data": {
      "image/png": "[encoded data removed]",
      "text/plain": [
       "<Figure size 720x432 with 1 Axes>"
      ]
     },
     "metadata": {
      "needs_background": "light"
     },
     "output_type": "display_data"
    }
   ],
   "source": [
    "# example plot for ETH/ether over time \n",
    "fig, ax = plt.subplots(figsize=(10,6))\n",
    "x_axis = eth_df[\"Date\"]\n",
    "eth_plot = plt.plot(x_axis, eth_df[\"Close\"], color='orange', alpha=0.5)"
   ]
  },
  {
   "cell_type": "code",
   "execution_count": null,
   "metadata": {},
   "outputs": [],
   "source": []
  }
 ],
 "metadata": {
  "kernelspec": {
   "display_name": "Python 3",
   "language": "python",
   "name": "python3"
  },
  "language_info": {
   "codemirror_mode": {
    "name": "ipython",
    "version": 3
   },
   "file_extension": ".py",
   "mimetype": "text/x-python",
   "name": "python",
   "nbconvert_exporter": "python",
   "pygments_lexer": "ipython3",
   "version": "3.6.8"
  }
 },
 "nbformat": 4,
 "nbformat_minor": 2
}
